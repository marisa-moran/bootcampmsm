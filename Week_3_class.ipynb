{
 "cells": [
  {
   "cell_type": "code",
   "execution_count": 2,
   "id": "fde3cea0",
   "metadata": {},
   "outputs": [
    {
     "name": "stdout",
     "output_type": "stream",
     "text": [
      "Hello, my name is Marisa and I am 29 years old\n"
     ]
    }
   ],
   "source": [
    "name = \"Marisa\"\n",
    "age = 29\n",
    "print(\"Hello, my name is {} and I am {} years old\".format(name, age))"
   ]
  },
  {
   "cell_type": "code",
   "execution_count": 16,
   "id": "15e739bd",
   "metadata": {},
   "outputs": [
    {
     "name": "stdout",
     "output_type": "stream",
     "text": [
      "Hello, my name is Marisa and I am 29 years old\n"
     ]
    }
   ],
   "source": [
    "#Asking for name and age to user\n",
    "name = input(\"What is your name?\")\n",
    "age = int(input(\"Waht is your age?\"))\n",
    "print(\"Hello, my name is {} and I am {} years old\".format(name, age))"
   ]
  },
  {
   "cell_type": "code",
   "execution_count": 7,
   "id": "1b7a27ef",
   "metadata": {},
   "outputs": [
    {
     "name": "stdout",
     "output_type": "stream",
     "text": [
      "Hello, my name is Marisa and I am 29 years old\n"
     ]
    }
   ],
   "source": [
    "name = \"marisa\"\n",
    "age = 29\n",
    "print(f\"Hello, my name is {name.title()} and I am {age} years old\")"
   ]
  },
  {
   "cell_type": "code",
   "execution_count": 9,
   "id": "aa9ac5b7",
   "metadata": {},
   "outputs": [
    {
     "name": "stdout",
     "output_type": "stream",
     "text": [
      "<class 'str'>\n",
      "<class 'int'>\n",
      "<class 'float'>\n",
      "<class 'bool'>\n"
     ]
    }
   ],
   "source": [
    "#assigning type variable\n",
    "greeting = \"Hello\"\n",
    "greeting = str(greeting) #assign tring value to variable\n",
    "year_born = \"1995\"\n",
    "year_born = int(year_born)\n",
    "height_in_meters = 1.70\n",
    "height_in_meters = float(height_in_meters)\n",
    "is_student = \"True\"\n",
    "is_student = bool(is_student)\n",
    "print(type(greeting))\n",
    "print(type(year_born))\n",
    "print(type(height_in_meters))\n",
    "print(type(is_student))\n",
    "\n",
    "\n"
   ]
  },
  {
   "cell_type": "code",
   "execution_count": null,
   "id": "d13755e9",
   "metadata": {},
   "outputs": [
    {
     "name": "stdout",
     "output_type": "stream",
     "text": [
      "The total cost for 6 apples is 240 dollars\n"
     ]
    }
   ],
   "source": [
    "#assign price to a variable called price_apple\n",
    "price_apple = 40\n",
    "num_apples = 6          #asign a number of apples\n",
    "total_cost = int(price_apple) * int(num_apples)          # assign a variable for calculation of the cost and at the same time setting the type to be an integral\n",
    "print(\"The total cost for {} apples is {} dollars\".format(num_apples, total_cost))"
   ]
  },
  {
   "cell_type": "code",
   "execution_count": 15,
   "id": "95184831",
   "metadata": {},
   "outputs": [
    {
     "name": "stdout",
     "output_type": "stream",
     "text": [
      "29\n",
      "34\n"
     ]
    }
   ],
   "source": [
    "#Updating variables\n",
    "#assign my age to a variable\n",
    "current_age = 29\n",
    "print(f\"{current_age}\")\n",
    "new_age = int(current_age) + 5\n",
    "print(f\"{new_age}\")"
   ]
  },
  {
   "cell_type": "code",
   "execution_count": null,
   "id": "6efa391d",
   "metadata": {},
   "outputs": [
    {
     "name": "stdout",
     "output_type": "stream",
     "text": [
      "x= 20\n",
      "y= 10\n"
     ]
    }
   ],
   "source": [
    "#Using the temp function to change order of variables\n",
    "x = 10\n",
    "y = 20\n",
    "x, y = y, x\n",
    "print('x=', x)\n",
    "print('y=', y)\n",
    "t = y, x   #temporary variable to change order"
   ]
  },
  {
   "cell_type": "code",
   "execution_count": null,
   "id": "36393f23",
   "metadata": {},
   "outputs": [],
   "source": []
  }
 ],
 "metadata": {
  "kernelspec": {
   "display_name": "bootcamp",
   "language": "python",
   "name": "python3"
  },
  "language_info": {
   "codemirror_mode": {
    "name": "ipython",
    "version": 3
   },
   "file_extension": ".py",
   "mimetype": "text/x-python",
   "name": "python",
   "nbconvert_exporter": "python",
   "pygments_lexer": "ipython3",
   "version": "3.10.16"
  }
 },
 "nbformat": 4,
 "nbformat_minor": 5
}
