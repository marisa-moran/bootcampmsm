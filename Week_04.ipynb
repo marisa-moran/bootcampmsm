{
 "cells": [
  {
   "cell_type": "markdown",
   "id": "2bdd41ad",
   "metadata": {},
   "source": [
    "W4 book"
   ]
  },
  {
   "cell_type": "markdown",
   "id": "a9560c9a",
   "metadata": {},
   "source": [
    "Lists"
   ]
  },
  {
   "cell_type": "code",
   "execution_count": 1,
   "id": "b7b44988",
   "metadata": {},
   "outputs": [
    {
     "name": "stdout",
     "output_type": "stream",
     "text": [
      "[5, 10, 15.2, 20]\n"
     ]
    }
   ],
   "source": [
    "#declaring a list of numbers\n",
    "nums= [5, 10, 15.2, 20]\n",
    "print(nums)"
   ]
  },
  {
   "cell_type": "code",
   "execution_count": 2,
   "id": "4895d430",
   "metadata": {},
   "outputs": [
    {
     "name": "stdout",
     "output_type": "stream",
     "text": [
      "10\n",
      "15.2\n"
     ]
    }
   ],
   "source": [
    "#accessing elements within a list\n",
    "print(nums[1])  #will output the value at index 1=10\n",
    "num=nums[2]     #saves index value 2 into num\n",
    "print(num)      #prints value assigned to num"
   ]
  },
  {
   "cell_type": "code",
   "execution_count": 4,
   "id": "bc7cff2d",
   "metadata": {},
   "outputs": [
    {
     "name": "stdout",
     "output_type": "stream",
     "text": [
      "[4.3, 'word', True]\n"
     ]
    }
   ],
   "source": [
    "#declaring a list of mixed data types\n",
    "num=4.3\n",
    "data=[num, \"word\", True]          #the power of data collection\n",
    "print(data)"
   ]
  },
  {
   "cell_type": "code",
   "execution_count": 5,
   "id": "9902fdf1",
   "metadata": {},
   "outputs": [
    {
     "name": "stdout",
     "output_type": "stream",
     "text": [
      "[5, 'book', [34, 'hello'], True]\n",
      "[34, 'hello']\n"
     ]
    }
   ],
   "source": [
    "#List within list\n",
    "#understanding list within list\n",
    "data = [5, \"book\", [34, \"hello\"], True]           #list can hold any type\n",
    "print(data)\n",
    "print(data[2])"
   ]
  },
  {
   "cell_type": "code",
   "execution_count": 6,
   "id": "3e180c79",
   "metadata": {},
   "outputs": [
    {
     "name": "stdout",
     "output_type": "stream",
     "text": [
      "34\n",
      "hello\n"
     ]
    }
   ],
   "source": [
    "#using double brackets notation to access lists within lists\n",
    "print(data[2][0])   #will output the first item in the second item of the first list \"34\"\n",
    "inner_list = data[2]   #inner list variable defined as the second item in data list, in this case list [34, \"hello\"]\n",
    "print(inner_list[1])    #will putput the second item in the new defined variable \"hello\""
   ]
  },
  {
   "cell_type": "code",
   "execution_count": 8,
   "id": "774fb390",
   "metadata": {},
   "outputs": [
    {
     "name": "stdout",
     "output_type": "stream",
     "text": [
      "[5, 10, 15, 20]\n",
      "[100, 10, 15, 20]\n"
     ]
    }
   ],
   "source": [
    "#changing values in a list through index\n",
    "data=[5,10,15,20]\n",
    "print(data)\n",
    "data[0] = 100    #change the value at index 0 (5 changed to 100)\n",
    "print(data)"
   ]
  },
  {
   "cell_type": "code",
   "execution_count": 9,
   "id": "dd597182",
   "metadata": {},
   "outputs": [
    {
     "name": "stdout",
     "output_type": "stream",
     "text": [
      "1228011376256\n"
     ]
    }
   ],
   "source": [
    "#findin the storage location of stored data\n",
    "a=[5,10]\n",
    "print(id(a))"
   ]
  },
  {
   "cell_type": "code",
   "execution_count": 10,
   "id": "971f0dd9",
   "metadata": {},
   "outputs": [
    {
     "name": "stdout",
     "output_type": "stream",
     "text": [
      "a:[5, 10]\tb:[5, 10]\n",
      "Location a[0]:1227908579696\t Location b[0]:1227908579696\n",
      "a:[20, 10]\t b:[20, 10]\n"
     ]
    }
   ],
   "source": [
    "#understanding how lists are stored\n",
    "a=[5,10]\n",
    "b=a\n",
    "print(\"a:{}\\tb:{}\".format(a,b))\n",
    "print(\"Location a[0]:{}\\t Location b[0]:{}\".format(id(a[0]), id(b[0])))\n",
    "a[0]=20         #re-declaring the value of a[0] also changes b[0]\n",
    "print(\"a:{}\\t b:{}\".format(a,b))"
   ]
  },
  {
   "cell_type": "code",
   "execution_count": 11,
   "id": "c3e203dd",
   "metadata": {},
   "outputs": [
    {
     "name": "stdout",
     "output_type": "stream",
     "text": [
      "data:[50, 10, 15, 20]\t data_copy:[5, 10, 15, 20]\n"
     ]
    }
   ],
   "source": [
    "#using [:] to copy a list\n",
    "data=[5,10,15,20]\n",
    "data_copy = data[:]     #a single colon copies the list\n",
    "data[0] = 50\n",
    "print(\"data:{}\\t data_copy:{}\".format(data, data_copy))"
   ]
  },
  {
   "cell_type": "code",
   "execution_count": 18,
   "id": "1a265636",
   "metadata": {},
   "outputs": [
    {
     "name": "stdout",
     "output_type": "stream",
     "text": [
      "I like to play football\n",
      "['J', 'A', 'S', 'K']\n"
     ]
    }
   ],
   "source": [
    "#monday exercises\n",
    "sports=[\"football\", \"basketball\", \"hockey\", \"badmington\", \"bouldering\"]\n",
    "print(\"I like to play {}\".format(sports[0]))\n",
    "#first character\n",
    "names=[\"John\", \"Abraham\", \"Sam\", \"Kelly\"]\n",
    "first_letter= [names[0][0],names[1][0],names[2][0],names[3][0] ]\n",
    "print(first_letter)"
   ]
  },
  {
   "cell_type": "markdown",
   "id": "d1396f4f",
   "metadata": {},
   "source": [
    "For Loops"
   ]
  },
  {
   "cell_type": "code",
   "execution_count": 21,
   "id": "8b5734f5",
   "metadata": {},
   "outputs": [
    {
     "name": "stdout",
     "output_type": "stream",
     "text": [
      "value:0\n",
      "value:1\n",
      "value:2\n",
      "value:3\n",
      "value:4\n"
     ]
    }
   ],
   "source": [
    "\n",
    "#writing for loop using range\n",
    "for num in range(5):\n",
    "    print(\"value:{}\".format(num))"
   ]
  },
  {
   "cell_type": "code",
   "execution_count": 22,
   "id": "a9336174",
   "metadata": {},
   "outputs": [
    {
     "name": "stdout",
     "output_type": "stream",
     "text": [
      "value:2\n",
      "value:4\n",
      "value:6\n",
      "value:8\n"
     ]
    }
   ],
   "source": [
    "#providing start, stop, and step for range function\n",
    "for num in range(2, 10, 2):\n",
    "    print(\"value:{}\".format(num))       #will print all evens between 2 and 10\n",
    "\n"
   ]
  },
  {
   "cell_type": "code",
   "execution_count": 23,
   "id": "38b64103",
   "metadata": {},
   "outputs": [
    {
     "name": "stdout",
     "output_type": "stream",
     "text": [
      "value:J\n",
      "value:o\n",
      "value:h\n",
      "value:n\n",
      "value: \n",
      "value:S\n",
      "value:m\n",
      "value:i\n",
      "value:t\n",
      "value:h\n"
     ]
    }
   ],
   "source": [
    "#printing all characters in a name using the 'in' keyword\n",
    "name=\"John Smith\"\n",
    "for letter in name:\n",
    "    print(\"value:{}\".format(letter))"
   ]
  },
  {
   "cell_type": "code",
   "execution_count": 24,
   "id": "69752062",
   "metadata": {},
   "outputs": [
    {
     "name": "stdout",
     "output_type": "stream",
     "text": [
      "0\n",
      "1\n",
      "2\n",
      "4\n"
     ]
    }
   ],
   "source": [
    "#using the continue statement within a for loop\n",
    "for num in range(5):\n",
    "    if num==3:\n",
    "        continue\n",
    "    print(num)"
   ]
  },
  {
   "cell_type": "code",
   "execution_count": 25,
   "id": "30f9e125",
   "metadata": {},
   "outputs": [
    {
     "name": "stdout",
     "output_type": "stream",
     "text": [
      "0\n",
      "1\n",
      "2\n"
     ]
    }
   ],
   "source": [
    "# Breaking out a loop using the 'break' keyword\n",
    "for num in range(5):\n",
    "    if num==3:\n",
    "        break\n",
    "    print(num)"
   ]
  },
  {
   "cell_type": "code",
   "execution_count": null,
   "id": "3d005dfc",
   "metadata": {},
   "outputs": [],
   "source": [
    "#setting a placeholder using the 'pass' keyword\n",
    "for i in range(5):\n",
    "    #to to: add code to print number\n",
    "    pass\n",
    "#useful for fraing put the programm\n"
   ]
  },
  {
   "cell_type": "code",
   "execution_count": 29,
   "id": "79134266",
   "metadata": {},
   "outputs": [
    {
     "name": "stdout",
     "output_type": "stream",
     "text": [
      "3\n",
      "6\n",
      "9\n",
      "12\n",
      "15\n",
      "18\n",
      "21\n",
      "24\n",
      "27\n",
      "30\n",
      "33\n",
      "36\n",
      "39\n",
      "42\n",
      "45\n",
      "48\n",
      "51\n",
      "54\n",
      "57\n",
      "60\n",
      "63\n",
      "66\n",
      "69\n",
      "72\n",
      "75\n",
      "78\n",
      "81\n",
      "84\n",
      "87\n",
      "90\n",
      "93\n",
      "96\n",
      "99\n"
     ]
    }
   ],
   "source": [
    "#Tuesday exercises\n",
    "#divisible by three\n",
    "for i in range(1, 34):\n",
    "    print(3*i)"
   ]
  },
  {
   "cell_type": "code",
   "execution_count": 30,
   "id": "535a4c00",
   "metadata": {},
   "outputs": [
    {
     "name": "stdout",
     "output_type": "stream",
     "text": [
      "o\n",
      "a\n"
     ]
    }
   ],
   "source": [
    "\n",
    "#only vowels\n",
    "word=input(\"write a word\")\n",
    "for i in word:\n",
    "    if i==\"a\" or i==\"e\" or i==\"i\" or i==\"o\" or i==\"u\":\n",
    "        print(i)\n",
    "    else:\n",
    "        continue\n",
    "\n"
   ]
  },
  {
   "cell_type": "markdown",
   "id": "c225c716",
   "metadata": {},
   "source": [
    "While loops"
   ]
  },
  {
   "cell_type": "code",
   "execution_count": 31,
   "id": "50f86c44",
   "metadata": {},
   "outputs": [
    {
     "name": "stdout",
     "output_type": "stream",
     "text": [
      "10\n",
      "9\n",
      "8\n",
      "7\n",
      "6\n",
      "5\n",
      "4\n",
      "3\n",
      "2\n",
      "1\n"
     ]
    }
   ],
   "source": [
    "#writing a while loop\n",
    "health=10\n",
    "while health>0:\n",
    "    print(health)\n",
    "    health-=1       #forgetting this line will result in infinite loop\n"
   ]
  },
  {
   "cell_type": "code",
   "execution_count": 32,
   "id": "2fa2903d",
   "metadata": {},
   "outputs": [
    {
     "name": "stdout",
     "output_type": "stream",
     "text": [
      "0 0\n",
      "0 1\n",
      "0 2\n",
      "1 0\n",
      "1 1\n",
      "1 2\n"
     ]
    }
   ],
   "source": [
    "#using two or more loops together is called a nested loop\n",
    "for i in range(2):    #outside loop\n",
    "    for j in range(3):      #inside loop\n",
    "        print(i,j)"
   ]
  },
  {
   "cell_type": "code",
   "execution_count": 58,
   "id": "9f13055a",
   "metadata": {},
   "outputs": [],
   "source": [
    "# Wednesday exercises\n",
    "#user input\n",
    "ans=input(\"type a word and type quit to finish\").lower()\n",
    "while ans!=\"quit\":\n",
    "    ans=input(\"type a word and type quit to finish\").lower()"
   ]
  },
  {
   "cell_type": "code",
   "execution_count": 34,
   "id": "eacc8292",
   "metadata": {},
   "outputs": [
    {
     "name": "stdout",
     "output_type": "stream",
     "text": [
      "0\n",
      "1\n",
      "2\n"
     ]
    }
   ],
   "source": [
    "#double loop\n",
    "game_over= False\n",
    "while not game_over:\n",
    "    for i in range(6):\n",
    "        if i==3:\n",
    "            game_over= True\n",
    "            break\n",
    "        else:\n",
    "            print(i)"
   ]
  },
  {
   "cell_type": "markdown",
   "id": "962a2890",
   "metadata": {},
   "source": [
    "Working with lists"
   ]
  },
  {
   "cell_type": "code",
   "execution_count": 35,
   "id": "b9535e58",
   "metadata": {},
   "outputs": [
    {
     "name": "stdout",
     "output_type": "stream",
     "text": [
      "3\n"
     ]
    }
   ],
   "source": [
    "#checking the numer of items within a list\n",
    "nums=[5,10,15]\n",
    "lenght=len(nums)        #len() returns integer\n",
    "print(lenght)"
   ]
  },
  {
   "cell_type": "code",
   "execution_count": 38,
   "id": "9aa18b17",
   "metadata": {},
   "outputs": [
    {
     "name": "stdout",
     "output_type": "stream",
     "text": [
      "[10, 15]\n",
      "[5, 10]\n",
      "[5, 15]\n",
      "[10, 15]\n",
      "[5, 10]\n"
     ]
    }
   ],
   "source": [
    "#accessing specific items of a list with slices\n",
    "print(nums[1:3])        #will output items in index 1 and 2\n",
    "print(nums[:2])        #will output items in index 0 and 1\n",
    "print(nums[::2])        #will print every other index -0, 2, 4, etc\n",
    "print(nums[-2:])        #will output the last two items in the list\n",
    "print(nums[0:2])        #will output items in index 0 and 1\n"
   ]
  },
  {
   "cell_type": "code",
   "execution_count": 42,
   "id": "d8fd4f85",
   "metadata": {},
   "outputs": [
    {
     "name": "stdout",
     "output_type": "stream",
     "text": [
      "[10, 20, 5]\n"
     ]
    }
   ],
   "source": [
    "#Adding an item to the back of the list usign append\n",
    "nums=[10,20]\n",
    "nums.append(5)\n",
    "print(nums)     #outputs [10, 20, 5]"
   ]
  },
  {
   "cell_type": "code",
   "execution_count": 41,
   "id": "44c1a439",
   "metadata": {},
   "outputs": [
    {
     "name": "stdout",
     "output_type": "stream",
     "text": [
      "['glove', 'ball', 'base']\n"
     ]
    }
   ],
   "source": [
    "#Adding a value to the begining of the list\n",
    "words=[\"ball\", \"base\"]\n",
    "words.insert(0,\"glove\")      #first number is the index, the second is the value\n",
    "print(words)"
   ]
  },
  {
   "cell_type": "markdown",
   "id": "f8bd355f",
   "metadata": {},
   "source": [
    "Removing items"
   ]
  },
  {
   "cell_type": "code",
   "execution_count": 43,
   "id": "dce745e0",
   "metadata": {},
   "outputs": [
    {
     "name": "stdout",
     "output_type": "stream",
     "text": [
      "5 \n",
      " ['ball']\n"
     ]
    }
   ],
   "source": [
    "#using pop to remove items and saving to a variable to use later\n",
    "items=[5,\"ball\", True]\n",
    "items.pop()         #by default removes the last item\n",
    "removed_item=items.pop(0)       #removes 5 and saves it into the variable\n",
    "print(removed_item, \"\\n\", items)"
   ]
  },
  {
   "cell_type": "code",
   "execution_count": 45,
   "id": "5ae0868b",
   "metadata": {},
   "outputs": [
    {
     "name": "stdout",
     "output_type": "stream",
     "text": [
      "['baseball', 'football', 'hockey']\n"
     ]
    }
   ],
   "source": [
    "#usign the remove method with a try and except\n",
    "sports=[\"baseball\",\"soccer\",\"football\", \"hockey\"]\n",
    "try:\n",
    "    sports.remove(\"soccer\")\n",
    "except:\n",
    "    print(\"that item does not exist in the list\")\n",
    "print(sports)"
   ]
  },
  {
   "cell_type": "code",
   "execution_count": 46,
   "id": "a9d0b886",
   "metadata": {},
   "outputs": [
    {
     "name": "stdout",
     "output_type": "stream",
     "text": [
      "3\n",
      "9\n",
      "17\n"
     ]
    }
   ],
   "source": [
    "#using min, max and sum\n",
    "nums=[5,3,9]\n",
    "print(min(nums))        #prints the lowest num in list\n",
    "print(max(nums))        #prints the highest num in list\n",
    "print(sum(nums))        #adds all the numbers in the list and prints the sum"
   ]
  },
  {
   "cell_type": "code",
   "execution_count": 47,
   "id": "743537cd",
   "metadata": {},
   "outputs": [
    {
     "name": "stdout",
     "output_type": "stream",
     "text": [
      "[5, 8, 0, 2] [0, 2, 5, 8]\n"
     ]
    }
   ],
   "source": [
    "#sorted works on either numerical or alphabetic lists but not mixed\n",
    "#sorted returns a copy\n",
    "#using sorted on list for numerical and alphabetical data\n",
    "nums=[5,8,0,2]\n",
    "sorted_nums=sorted(nums)        #saves the new sorted list into a new variable\n",
    "print(nums, sorted_nums)        #the original list is intact"
   ]
  },
  {
   "cell_type": "code",
   "execution_count": 48,
   "id": "aeedd360",
   "metadata": {},
   "outputs": [
    {
     "name": "stdout",
     "output_type": "stream",
     "text": [
      "[0, 3, 5, 8]\n"
     ]
    }
   ],
   "source": [
    "#.sort() changes the original list when sorting\n",
    "#sorting a list with .sort() in-place\n",
    "nums=[5,0,8,3]\n",
    "nums.sort()         #alters original variable directly\n",
    "print(nums)"
   ]
  },
  {
   "cell_type": "markdown",
   "id": "2a277476",
   "metadata": {},
   "source": [
    "Conditionals and lists"
   ]
  },
  {
   "cell_type": "code",
   "execution_count": 50,
   "id": "7830a7fb",
   "metadata": {},
   "outputs": [
    {
     "name": "stdout",
     "output_type": "stream",
     "text": [
      "found\n",
      "not found\n"
     ]
    }
   ],
   "source": [
    "# using conditional staments on a list\n",
    "names=[\"Jack\", \"Rober\", \"Mary\"]\n",
    "if \"Mary\" in names:\n",
    "    print(\"found\")      #will run since Mary is in the list\n",
    "if \"Jimmy\" not in names:\n",
    "    print(\"not found\")      #will run since Jimmy is not in the list"
   ]
  },
  {
   "cell_type": "code",
   "execution_count": 52,
   "id": "aeb4ecee",
   "metadata": {},
   "outputs": [
    {
     "name": "stdout",
     "output_type": "stream",
     "text": [
      "empty\n"
     ]
    }
   ],
   "source": [
    "#Using conditionals to see if a list is empty\n",
    "nums=[]\n",
    "if not nums:        #could also say 'if nums==[]'\n",
    "    print(\"empty\")"
   ]
  },
  {
   "cell_type": "markdown",
   "id": "a472e17a",
   "metadata": {},
   "source": [
    "Loops and lists"
   ]
  },
  {
   "cell_type": "code",
   "execution_count": 53,
   "id": "0f25c20d",
   "metadata": {},
   "outputs": [
    {
     "name": "stdout",
     "output_type": "stream",
     "text": [
      "baseball\n",
      "hockey\n",
      "football\n",
      "basketball\n"
     ]
    }
   ],
   "source": [
    "#using a for loop to print all items in a list\n",
    "sports=[\"baseball\", \"hockey\", \"football\",\"basketball\"]\n",
    "for sport in sports:\n",
    "    print(sport)"
   ]
  },
  {
   "cell_type": "code",
   "execution_count": 54,
   "id": "847fd41f",
   "metadata": {},
   "outputs": [
    {
     "name": "stdout",
     "output_type": "stream",
     "text": [
      "['Jack', 'Rob', 'Robert']\n"
     ]
    }
   ],
   "source": [
    "#using the while loop to remove a certain value\n",
    "names=[\"Bob\", \"Jack\", \"Rob\", \"Bob\", \"Robert\"]\n",
    "while \"Bob\" in names:\n",
    "    names.remove(\"Bob\")     #removes all instances of \"Bob\"\n",
    "print(names)"
   ]
  },
  {
   "cell_type": "markdown",
   "id": "4e2a5fce",
   "metadata": {},
   "source": [
    "Thursday exercises"
   ]
  },
  {
   "cell_type": "code",
   "execution_count": 56,
   "id": "233e746f",
   "metadata": {},
   "outputs": [
    {
     "name": "stdout",
     "output_type": "stream",
     "text": [
      "['Amanda', 'Bob', 'Kenny']\n"
     ]
    }
   ],
   "source": [
    "#Remove duplicates\n",
    "names=[\"Bob\", \"Kenny\",\"Amanda\", \"Bob\", \"Kenny\"]\n",
    "while names.count(\"Bob\") >1 or names.count(\"Kenny\")>1:\n",
    "    names.remove(\"Bob\")\n",
    "    names.remove(\"Kenny\")\n",
    "print(names)"
   ]
  },
  {
   "cell_type": "code",
   "execution_count": 57,
   "id": "7862ad7b",
   "metadata": {},
   "outputs": [
    {
     "name": "stdout",
     "output_type": "stream",
     "text": [
      "['hello', 'no', 'mjfnd', 'nkaenl', 'nkjddfsf', 'quit']\n"
     ]
    }
   ],
   "source": [
    "#user input\n",
    "ans_list=[]\n",
    "ans=input(\"type a word and type quit to finish\").lower()\n",
    "ans_list.append(ans)\n",
    "while ans!=\"quit\":\n",
    "    ans=input(\"type a word and type quit to finish\").lower()\n",
    "    ans_list.append(ans)\n",
    "print(ans_list)"
   ]
  },
  {
   "cell_type": "markdown",
   "id": "5988e3ed",
   "metadata": {},
   "source": [
    "Friday project - creating a hangman"
   ]
  },
  {
   "cell_type": "code",
   "execution_count": 1,
   "id": "3f65c7a5",
   "metadata": {},
   "outputs": [],
   "source": [
    "#Final design\n",
    "#1.Select a word to play\n",
    "#2. Aks user for input\n",
    "#3. Check if guess is correct\n",
    "#3.a if it is, show the letter in the proper place\n",
    "#3.b if it isn't lose a life\n",
    "#4. continue steps 2 and 3 until one of the following occurs:\n",
    "#4.a the user gueses the word correctly\n",
    "#4.b the user loses all their lives"
   ]
  },
  {
   "cell_type": "code",
   "execution_count": 16,
   "id": "27254ede",
   "metadata": {},
   "outputs": [
    {
     "name": "stdout",
     "output_type": "stream",
     "text": [
      "You guessed correctly!\n",
      "Congratulations, you guessed it correctly!\n"
     ]
    }
   ],
   "source": [
    "#import additional functions\n",
    "from random import choice\n",
    "from IPython.display import clear_output\n",
    "#declare game variables\n",
    "words=[\"tree\", \"basket\", \"chair\", \"paper\",\"python\"]\n",
    "word=choice(words)    #randomly chooses a word from words list\n",
    "guessed, lives, game_over=[], 7, False    #multi variable assignment\n",
    "#create a list of underscores to the lenght of the word\n",
    "guesses=[\"_\"]*len(word)\n",
    "#create main game loop\n",
    "while not game_over:\n",
    "    #output game information\n",
    "    hidden_word=\"\".join(guesses)\n",
    "    print(\"Your guessed letters:{}\".format(guessed))\n",
    "    print(\"Word to guess:{}\".format(hidden_word))\n",
    "    print(\"Lives:{}\".format(lives))\n",
    "    ans=input(\"Type quit or guess a letter:\").lower()\n",
    "    clear_output()      #clear all previous output\n",
    "    if ans==\"quit\":\n",
    "        print(\"Thanks for playing.\")\n",
    "        game_over=True\n",
    "    elif ans in word and ans not in guessed:   #check if letter in word\n",
    "        print(\"You guessed correctly!\")\n",
    "        #create a loop to change underscore to proper letter\n",
    "        for i in range(len(word)):\n",
    "            if word[i]==ans:        #compares values at indexes\n",
    "                guesses[i]=ans\n",
    "    elif ans in guessed:\n",
    "        print(\"You already guessed that. Try again.\")        \n",
    "    else:       #otherwise lose a life\n",
    "        lives-=1\n",
    "        print(\"Incorrect, you lost a life.\")\n",
    "    if ans not in guessed:\n",
    "            guessed.append(ans)     #add ans to guessed list\n",
    "    if lives<=0:\n",
    "            print(\"You lost all your lives, you lost!\")\n",
    "            game_over=True\n",
    "    elif word==\"\".join(guesses):\n",
    "            print(\"Congratulations, you guessed it correctly!\")\n",
    "            game_over=True\n",
    "\n",
    "\n",
    "    \n"
   ]
  },
  {
   "cell_type": "code",
   "execution_count": null,
   "id": "1eacd77b",
   "metadata": {},
   "outputs": [],
   "source": []
  }
 ],
 "metadata": {
  "kernelspec": {
   "display_name": "bootcamp",
   "language": "python",
   "name": "python3"
  },
  "language_info": {
   "codemirror_mode": {
    "name": "ipython",
    "version": 3
   },
   "file_extension": ".py",
   "mimetype": "text/x-python",
   "name": "python",
   "nbconvert_exporter": "python",
   "pygments_lexer": "ipython3",
   "version": "3.10.16"
  }
 },
 "nbformat": 4,
 "nbformat_minor": 5
}
