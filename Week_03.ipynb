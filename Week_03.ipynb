{
 "cells": [
  {
   "cell_type": "code",
   "execution_count": 1,
   "id": "d15d8d10",
   "metadata": {},
   "outputs": [
    {
     "ename": "NameError",
     "evalue": "name 'element' is not defined",
     "output_type": "error",
     "traceback": [
      "\u001b[1;31m---------------------------------------------------------------------------\u001b[0m",
      "\u001b[1;31mNameError\u001b[0m                                 Traceback (most recent call last)",
      "Cell \u001b[1;32mIn[1], line 1\u001b[0m\n\u001b[1;32m----> 1\u001b[0m \u001b[38;5;28mprint\u001b[39m(\u001b[38;5;124m'\u001b[39m\u001b[38;5;132;01m{}\u001b[39;00m\u001b[38;5;124m is my favorite sport\u001b[39m\u001b[38;5;124m'\u001b[39m \u001b[38;5;241m.\u001b[39mformat(\u001b[43melement\u001b[49m))\n\u001b[0;32m      2\u001b[0m element \u001b[38;5;241m=\u001b[39m \u001b[38;5;124m'\u001b[39m\u001b[38;5;124mfootball\u001b[39m\u001b[38;5;124m'\u001b[39m\n",
      "\u001b[1;31mNameError\u001b[0m: name 'element' is not defined"
     ]
    }
   ],
   "source": [
    "print('{} is my favorite sport' .format(element))\n",
    "element = 'football'"
   ]
  },
  {
   "cell_type": "code",
   "execution_count": 7,
   "id": "48c3c942",
   "metadata": {},
   "outputs": [
    {
     "name": "stdout",
     "output_type": "stream",
     "text": [
      "Marisa\n"
     ]
    }
   ],
   "source": [
    "##\"User input & type\"\n",
    "\n",
    "#accepting and outputting user input\n",
    "print(input(\"what is your name?\"))\n",
    "\n"
   ]
  },
  {
   "cell_type": "code",
   "execution_count": 6,
   "id": "5f98ca64",
   "metadata": {},
   "outputs": [
    {
     "name": "stdout",
     "output_type": "stream",
     "text": [
      "Hello Marisa!\n"
     ]
    }
   ],
   "source": [
    "#saving what the user inputs in a variable\n",
    "ans = input(\"What is ypur name?\")\n",
    "print(\"Hello {}!\".format(ans) )"
   ]
  },
  {
   "cell_type": "code",
   "execution_count": 3,
   "id": "163aaefd",
   "metadata": {},
   "outputs": [
    {
     "name": "stdout",
     "output_type": "stream",
     "text": [
      "<class 'int'>\n"
     ]
    }
   ],
   "source": [
    "#How to check the data type of a variable\n",
    "num = 5\n",
    "print( type(num))"
   ]
  },
  {
   "cell_type": "code",
   "execution_count": null,
   "id": "22ead76f",
   "metadata": {},
   "outputs": [
    {
     "name": "stdout",
     "output_type": "stream",
     "text": [
      "<class 'int'>\n"
     ]
    }
   ],
   "source": [
    "#converting a variable from data type to another\n",
    "num = \"9\"\n",
    "num = int(num) #re-declaring num to store an integer\n",
    "print(type(num)) #checking type to make sure conversion worked"
   ]
  },
  {
   "cell_type": "code",
   "execution_count": 10,
   "id": "2c1d7a68",
   "metadata": {},
   "outputs": [
    {
     "name": "stdout",
     "output_type": "stream",
     "text": [
      "<class 'str'>\n",
      "100 + 9 = 109\n"
     ]
    }
   ],
   "source": [
    "#working with user input to perfomr calculations\n",
    "ans = input(\"type a number to add: \")\n",
    "print(type(ans)) #default type is string, must convert\n",
    "result = 100 + int(ans)\n",
    "print(\"100 + {} = {}\".format(ans, result))"
   ]
  },
  {
   "cell_type": "code",
   "execution_count": 12,
   "id": "05357477",
   "metadata": {},
   "outputs": [
    {
     "name": "stdout",
     "output_type": "stream",
     "text": [
      "you did not put in a valid number!\n",
      "The program did not break!\n"
     ]
    }
   ],
   "source": [
    "#using the try and except blocks, use tab to indent where necessary\n",
    "try:\n",
    "    ans = float(input(\"type a number to add:\"))\n",
    "    print(\"100+{}={}\".format(ans, 100+ans))\n",
    "except:\n",
    "    print(\"you did not put in a valid number!\")\n",
    "#without try/except print statement would not get hit if error occurs\n",
    "print(\"The program did not break!\")"
   ]
  },
  {
   "cell_type": "markdown",
   "id": "d8d31ae7",
   "metadata": {},
   "source": [
    "If statements"
   ]
  },
  {
   "cell_type": "code",
   "execution_count": 13,
   "id": "a5e85f94",
   "metadata": {},
   "outputs": [
    {
     "name": "stdout",
     "output_type": "stream",
     "text": [
      "x is less than y\n"
     ]
    }
   ],
   "source": [
    "#using if statement to only run code if the condition is met\n",
    "x, y = 5, 10\n",
    "if x < y:\n",
    "    print(\"x is less than y\")"
   ]
  },
  {
   "cell_type": "code",
   "execution_count": 15,
   "id": "03b40d7d",
   "metadata": {},
   "outputs": [
    {
     "name": "stdout",
     "output_type": "stream",
     "text": [
      "you got it right!\n"
     ]
    }
   ],
   "source": [
    "#checking the user input\n",
    "ans = int(input(\"what is 5+5?\"))\n",
    "if ans==10:\n",
    "    print(\"you got it right!\")"
   ]
  },
  {
   "cell_type": "code",
   "execution_count": 16,
   "id": "e065e99c",
   "metadata": {},
   "outputs": [
    {
     "name": "stdout",
     "output_type": "stream",
     "text": [
      "both statements were true\n"
     ]
    }
   ],
   "source": [
    "#using the keyword 'and' in an 'if statement'\n",
    "x, y, z = 5, 10, 5\n",
    "if x < y and x ==z:\n",
    "    print(\"both statements were true\")"
   ]
  },
  {
   "cell_type": "code",
   "execution_count": 17,
   "id": "776d2037",
   "metadata": {},
   "outputs": [
    {
     "name": "stdout",
     "output_type": "stream",
     "text": [
      "one or both statements were true\n"
     ]
    }
   ],
   "source": [
    "#using the keyword 'or' in an 'if statement'\n",
    "x, y, z = 5, 10, 5\n",
    "if x < y or x != z:\n",
    "    print(\"one or both statements were true\")"
   ]
  },
  {
   "cell_type": "code",
   "execution_count": 18,
   "id": "8c6377b4",
   "metadata": {},
   "outputs": [
    {
     "name": "stdout",
     "output_type": "stream",
     "text": [
      "flag is false\n"
     ]
    }
   ],
   "source": [
    "#using the keyword 'not' within an 'if statement'\n",
    "flag = False\n",
    "if not flag: #same as saying if not true\n",
    "    print(\"flag is false\")"
   ]
  },
  {
   "cell_type": "code",
   "execution_count": 19,
   "id": "c0989f31",
   "metadata": {},
   "outputs": [
    {
     "name": "stdout",
     "output_type": "stream",
     "text": [
      "baseball contains the character b\n"
     ]
    }
   ],
   "source": [
    "#using the keyword 'in' within an 'if statement'ArithmeticError\n",
    "word = \"baseball\"\n",
    "if \"b\" in word:\n",
    "    print(\"{} contains the character b\".format(word))\n"
   ]
  },
  {
   "cell_type": "code",
   "execution_count": 20,
   "id": "37df88ed",
   "metadata": {},
   "outputs": [
    {
     "name": "stdout",
     "output_type": "stream",
     "text": [
      "Baseball does not contain the character x\n"
     ]
    }
   ],
   "source": [
    "#using the keyword \"not in\" within an \"is statement\"\n",
    "word = \"Baseball\"\n",
    "if \"x\" not in word:\n",
    "    print(\"{} does not contain the character x\".format(word))"
   ]
  },
  {
   "cell_type": "markdown",
   "id": "87493891",
   "metadata": {},
   "source": [
    "Elis statements"
   ]
  },
  {
   "cell_type": "code",
   "execution_count": 21,
   "id": "581089d2",
   "metadata": {},
   "outputs": [
    {
     "name": "stdout",
     "output_type": "stream",
     "text": [
      "x is less\n"
     ]
    }
   ],
   "source": [
    "#using the elif conditional statemnt\n",
    "x, y = 5, 10\n",
    "if x > y:\n",
    "    print(\"x is greater\")\n",
    "elif x < y:\n",
    "    print(\"x is less\")"
   ]
  },
  {
   "cell_type": "code",
   "execution_count": 23,
   "id": "58bbcf00",
   "metadata": {},
   "outputs": [
    {
     "name": "stdout",
     "output_type": "stream",
     "text": [
      "equal\n"
     ]
    }
   ],
   "source": [
    "#checking multiple elif conditionals\n",
    "x, y = 5, 10\n",
    "if x > y:\n",
    "    print(\"x is greater\")\n",
    "elif (x+10)<y:                 #checking if 15 is less than 10\n",
    "    print(\"x is less\")\n",
    "elif (x + 5) == y:             #checking if 10 is equal to 10\n",
    "    print(\"equal\")"
   ]
  },
  {
   "cell_type": "code",
   "execution_count": 24,
   "id": "4cc482d3",
   "metadata": {},
   "outputs": [
    {
     "name": "stdout",
     "output_type": "stream",
     "text": [
      "x is equal to z\n"
     ]
    }
   ],
   "source": [
    "#writin g multiple conditional within each other - multiple block levels\n",
    "x, y, z = 5, 10, 5\n",
    "if x > y:\n",
    "    print(\"greater\")\n",
    "elif x <= y:\n",
    "    if x == z:\n",
    "        print(\"x is equal to z\")   #resulting output\n",
    "    elif x != z:\n",
    "        print(\"x is not equal to z\")   #won't get hit"
   ]
  },
  {
   "cell_type": "code",
   "execution_count": 25,
   "id": "5c84be61",
   "metadata": {},
   "outputs": [
    {
     "name": "stdout",
     "output_type": "stream",
     "text": [
      "x is less\n",
      "x is equal\n"
     ]
    }
   ],
   "source": [
    "#testing output of two if statements in a row that are both true\n",
    "x, y, z =5, 10, 5\n",
    "if x < y:\n",
    "    print(\"x is less\")\n",
    "if x == z:\n",
    "    print(\"x is equal\")\n"
   ]
  },
  {
   "cell_type": "code",
   "execution_count": 26,
   "id": "eb4dbfa8",
   "metadata": {},
   "outputs": [
    {
     "name": "stdout",
     "output_type": "stream",
     "text": [
      "x is less\n"
     ]
    }
   ],
   "source": [
    "# testing output of an if and elif statement that are both true\n",
    "x, y, z = 5, 10, 5\n",
    "if x < y:\n",
    "    print(\"x is less\")\n",
    "elif x == z:\n",
    "    print(\"x is equal to z\")"
   ]
  },
  {
   "cell_type": "markdown",
   "id": "539ae5c8",
   "metadata": {},
   "source": [
    "Else statements"
   ]
  },
  {
   "cell_type": "code",
   "execution_count": 27,
   "id": "60d247c6",
   "metadata": {},
   "outputs": [
    {
     "name": "stdout",
     "output_type": "stream",
     "text": [
      "Hello John\n"
     ]
    }
   ],
   "source": [
    "#using an else statemnt\n",
    "name = \"John\"\n",
    "if name == \"Jacob\":\n",
    "    print(\"Hello Jacob!\")\n",
    "else:\n",
    "    print(\"Hello {}\".format(name))"
   ]
  },
  {
   "cell_type": "code",
   "execution_count": 28,
   "id": "3d23bd9c",
   "metadata": {},
   "outputs": [
    {
     "name": "stdout",
     "output_type": "stream",
     "text": [
      "name starts with J\n"
     ]
    }
   ],
   "source": [
    "# writting a conditional with if, elif, asn else\n",
    "name = \"John\"\n",
    "if name[0] == \"A\":\n",
    "    print(\"name start with A\")\n",
    "elif name[0] == \"B\":\n",
    "    print(\"name starts with B\")\n",
    "elif name[0] == \"J\":\n",
    "    print(\"name starts with J\")\n",
    "else:                               ## covers all other possibilities\n",
    "    print(\"name starts with {}\".format(name[0]))"
   ]
  },
  {
   "cell_type": "code",
   "execution_count": 29,
   "id": "c20af59c",
   "metadata": {},
   "outputs": [
    {
     "name": "stdout",
     "output_type": "stream",
     "text": [
      "Hello John\n"
     ]
    }
   ],
   "source": [
    "#1. Fix the Errors\n",
    "name = \"John\"\n",
    "if name == \"Jack\":\n",
    "    print(\"Hello Jack\")\n",
    "else:\n",
    "    print(\"Hello John\")"
   ]
  },
  {
   "cell_type": "code",
   "execution_count": 30,
   "id": "80a1b861",
   "metadata": {},
   "outputs": [
    {
     "name": "stdout",
     "output_type": "stream",
     "text": [
      "Good Afternoon\n"
     ]
    }
   ],
   "source": [
    "#2. user input\n",
    "time = input(\"type in military time without a colon (1100=11:00 AM):\")\n",
    "if int(time) < 1200:\n",
    "    print(\"Good Morning\")\n",
    "elif int(time) >= 1200 and int(time) < 1700:\n",
    "    print(\"Good Afternoon\")\n",
    "elif int(time) >= 1700:\n",
    "    print(\"Good Evening\")"
   ]
  },
  {
   "cell_type": "markdown",
   "id": "b3e11fc2",
   "metadata": {},
   "source": [
    "Friday project: Creating a calculator"
   ]
  },
  {
   "cell_type": "code",
   "execution_count": null,
   "id": "bbb2fd9c",
   "metadata": {},
   "outputs": [
    {
     "name": "stdout",
     "output_type": "stream",
     "text": [
      "you choseadd.\n"
     ]
    }
   ],
   "source": [
    "# step 1: ask user for operation to be performd\n",
    "operation = input(\"would you like to add/substract/multiply/divide?\").lower()\n",
    "print(\"you chose {}.\".format(operation))      # for testing purposes"
   ]
  },
  {
   "cell_type": "code",
   "execution_count": null,
   "id": "7c40e4d2",
   "metadata": {},
   "outputs": [
    {
     "name": "stdout",
     "output_type": "stream",
     "text": [
      "First number: 100\n",
      "Second number: 50\n"
     ]
    }
   ],
   "source": [
    "# step2: ask for numbers, alert order matters for substracting and dividing\n",
    "if operation == \"substract\" or operation == \"divide\":\n",
    "    print(\"you choose {}.\".format(operation))\n",
    "    print(\"please keep in mind that the order of the numbers matter.\")\n",
    "num1 = input(\"what is the first number?\")\n",
    "num2 = input(\"what is the second number?\")\n",
    "print(\"First number: {}\".format(num1))  # for testing purposes\n",
    "print(\"Second number: {}\".format(num2)) # for testing purposes"
   ]
  },
  {
   "cell_type": "code",
   "execution_count": 38,
   "id": "d4899211",
   "metadata": {},
   "outputs": [
    {
     "name": "stdout",
     "output_type": "stream",
     "text": [
      "100.0+50.0 = 150.0\n"
     ]
    }
   ],
   "source": [
    "#step 3: set up try/except fro mathematical operation\n",
    "try:\n",
    "    # step 3a: immediately try to convert numbers input to floats\n",
    "    num1, num2 = float(num1), float(num2)\n",
    "    #step3b: perform operation and print result\n",
    "    if operation == \"add\":\n",
    "        result = num1 + num2\n",
    "        print(\"{}+{} = {}\". format(num1, num2, result))\n",
    "    elif operation == \"substract\":\n",
    "        result = num1 - num2\n",
    "        print(\"{}-{} = {}\".format(num1, num2, result))\n",
    "    elif operation == \"multiply\":\n",
    "        result = num1 * num2\n",
    "        print(\"{}*{} = {}\".format(num1, num2, result))  \n",
    "    elif operation == \"divide\":\n",
    "        result = num1 / num2\n",
    "        print(\"{}/{} = {}\".format(num1, num2, result))\n",
    "    else:\n",
    "        # else will be hit if they didn't choose an option correctly\n",
    "        print(\"Sorry, but '{}' is not an option\".format(operation))\n",
    "except:\n",
    "    # step3c: print error\n",
    "    print(\"Erros:Improper numbers used. Please try again\")"
   ]
  },
  {
   "cell_type": "code",
   "execution_count": 39,
   "id": "c7b2c05b",
   "metadata": {},
   "outputs": [
    {
     "name": "stdout",
     "output_type": "stream",
     "text": [
      "you choose substract.\n",
      "please keep in mind that the order of the numbers matter.\n",
      "120.0-67.0 = 53.0\n"
     ]
    }
   ],
   "source": [
    "# step 1: ask user for operation to be performd\n",
    "operation = input(\"would you like to add/substract/multiply/divide?\").lower()\n",
    "# step2: ask for numbers, alert order matters for substracting and dividing\n",
    "if operation == \"substract\" or operation == \"divide\":\n",
    "    print(\"you choose {}.\".format(operation))\n",
    "    print(\"please keep in mind that the order of the numbers matter.\")\n",
    "num1 = input(\"what is the first number?\")\n",
    "num2 = input(\"what is the second number?\")\n",
    "#step 3: set up try/except fro mathematical operation\n",
    "try:\n",
    "    # step 3a: immediately try to convert numbers input to floats\n",
    "    num1, num2 = float(num1), float(num2)\n",
    "    #step3b: perform operation and print result\n",
    "    if operation == \"add\":\n",
    "        result = num1 + num2\n",
    "        print(\"{}+{} = {}\". format(num1, num2, result))\n",
    "    elif operation == \"substract\":\n",
    "        result = num1 - num2\n",
    "        print(\"{}-{} = {}\".format(num1, num2, result))\n",
    "    elif operation == \"multiply\":\n",
    "        result = num1 * num2\n",
    "        print(\"{}*{} = {}\".format(num1, num2, result))  \n",
    "    elif operation == \"divide\":\n",
    "        result = num1 / num2\n",
    "        print(\"{}/{} = {}\".format(num1, num2, result))\n",
    "    else:\n",
    "        # else will be hit if they didn't choose an option correctly\n",
    "        print(\"Sorry, but '{}' is not an option\".format(operation))\n",
    "except:\n",
    "    # step3c: print error\n",
    "    print(\"Erros:Improper numbers used. Please try again\")"
   ]
  },
  {
   "cell_type": "code",
   "execution_count": null,
   "id": "365cbde4",
   "metadata": {},
   "outputs": [],
   "source": []
  }
 ],
 "metadata": {
  "kernelspec": {
   "display_name": "bootcamp",
   "language": "python",
   "name": "python3"
  },
  "language_info": {
   "codemirror_mode": {
    "name": "ipython",
    "version": 3
   },
   "file_extension": ".py",
   "mimetype": "text/x-python",
   "name": "python",
   "nbconvert_exporter": "python",
   "pygments_lexer": "ipython3",
   "version": "3.10.16"
  }
 },
 "nbformat": 4,
 "nbformat_minor": 5
}
