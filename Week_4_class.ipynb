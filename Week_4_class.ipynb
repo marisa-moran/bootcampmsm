{
 "cells": [
  {
   "cell_type": "code",
   "execution_count": 2,
   "id": "1d9ada76",
   "metadata": {},
   "outputs": [
    {
     "name": "stdout",
     "output_type": "stream",
     "text": [
      "Age out of range\n"
     ]
    }
   ],
   "source": [
    "#Conditional with error\n",
    "#create a variable called age\n",
    "age=int(input(\"What is your age?\"))\n",
    "valid=range(0,100)\n",
    "if type(age) != int:\n",
    "    print(\"Invalid input. Please enter a valid number\")\n",
    "elif age in valid:\n",
    "    print(\"valid age\")\n",
    "else:\n",
    "    print(\"Age out of range\")\n"
   ]
  },
  {
   "cell_type": "code",
   "execution_count": 17,
   "id": "0eaf5fb4",
   "metadata": {},
   "outputs": [
    {
     "name": "stdout",
     "output_type": "stream",
     "text": [
      "valid age\n"
     ]
    }
   ],
   "source": [
    "#Conditional with error\n",
    "#create a variable called age\n",
    "try:\n",
    "    age=int(input(\"What is your age?\"))\n",
    "    valid=range(0,100)\n",
    "    if age in valid:\n",
    "        print(\"valid age\")\n",
    "    else:\n",
    "        print(\"Age out of range\")\n",
    "except:\n",
    "        print(\"Invalid input. Please enter a valid number\")"
   ]
  },
  {
   "cell_type": "code",
   "execution_count": 3,
   "id": "42e8cfeb",
   "metadata": {},
   "outputs": [
    {
     "name": "stdout",
     "output_type": "stream",
     "text": [
      "valid age\n"
     ]
    }
   ],
   "source": [
    "#Conditional with error\n",
    "#create a variable called age\n",
    "age=int(input(\"What is your age?\"))\n",
    "if type(age) != int:\n",
    "    print(\"Invalid input. Please enter a valid number\")\n",
    "elif 0<= age <= 100:\n",
    "    print(\"valid age\")\n",
    "else:\n",
    "    print(\"Age out of range\")"
   ]
  },
  {
   "cell_type": "code",
   "execution_count": null,
   "id": "3af8e0b0",
   "metadata": {},
   "outputs": [
    {
     "name": "stdout",
     "output_type": "stream",
     "text": [
      "You are elegible for a loan\n"
     ]
    }
   ],
   "source": [
    "#4.Conditional with logical operators\n",
    "age=int(input(\"What is your age?\"))\n",
    "income=int(input(\"What is your income?\"))\n",
    "if age >=18 and income >= 50000:\n",
    "    print(\"You are elegible for a loan\")\n",
    "else:\n",
    "    print(\"You are not elegible\")\n"
   ]
  },
  {
   "cell_type": "code",
   "execution_count": null,
   "id": "c7fa46c9",
   "metadata": {},
   "outputs": [],
   "source": [
    "#1. Simple conditional check\n",
    "Try:\n",
    "    age=int(input(\"What is your age?\"))"
   ]
  }
 ],
 "metadata": {
  "kernelspec": {
   "display_name": "bootcamp",
   "language": "python",
   "name": "python3"
  },
  "language_info": {
   "codemirror_mode": {
    "name": "ipython",
    "version": 3
   },
   "file_extension": ".py",
   "mimetype": "text/x-python",
   "name": "python",
   "nbconvert_exporter": "python",
   "pygments_lexer": "ipython3",
   "version": "3.10.16"
  }
 },
 "nbformat": 4,
 "nbformat_minor": 5
}
